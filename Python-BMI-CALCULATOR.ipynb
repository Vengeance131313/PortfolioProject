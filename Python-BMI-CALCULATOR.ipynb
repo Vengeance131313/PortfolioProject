{
 "cells": [
  {
   "cell_type": "code",
   "execution_count": 2,
   "id": "1405503d-0674-4b2b-b794-af6b938dbe62",
   "metadata": {},
   "outputs": [
    {
     "name": "stdin",
     "output_type": "stream",
     "text": [
      "Enter your name:  Gio\n",
      "Enter your weight in pounds:  161\n",
      "Enter your height in inches:  72\n"
     ]
    },
    {
     "name": "stdout",
     "output_type": "stream",
     "text": [
      "21.833140432098766\n",
      "Gio, you are normal weight.\n"
     ]
    }
   ],
   "source": [
    "name = input(\"Enter your name: \")\n",
    "weight = int(input(\"Enter your weight in pounds: \"))\n",
    "height = int(input(\"Enter your height in inches: \"))\n",
    "BMI = (weight * 703) / (height * height )\n",
    "print(BMI)\n",
    "if BMI>0:\n",
    "    if(BMI<18.5):\n",
    "        print(name +\", you are underweight.\")\n",
    "    elif(BMI<24.9):\n",
    "        print(name +\", you are normal weight.\") \n",
    "    elif(BMI<29.9):\n",
    "        print(name +\", you are overweight.\") \n",
    "    elif(BMI<34.9):\n",
    "        print(name +\", you are obese.\")    \n",
    "    elif(BMI<39.9):\n",
    "        print(name +\", you are severely obese.\") \n",
    "    else: \n",
    "        print(name +\", you are morbidly obese.\")\n",
    "else:\n",
    "    print(\"Enter valid input\")        \n",
    "\n"
   ]
  },
  {
   "cell_type": "code",
   "execution_count": null,
   "id": "3bf697a9-7862-4733-a5f7-dd740fa5462a",
   "metadata": {},
   "outputs": [],
   "source": []
  }
 ],
 "metadata": {
  "kernelspec": {
   "display_name": "Python 3 (ipykernel)",
   "language": "python",
   "name": "python3"
  },
  "language_info": {
   "codemirror_mode": {
    "name": "ipython",
    "version": 3
   },
   "file_extension": ".py",
   "mimetype": "text/x-python",
   "name": "python",
   "nbconvert_exporter": "python",
   "pygments_lexer": "ipython3",
   "version": "3.12.7"
  }
 },
 "nbformat": 4,
 "nbformat_minor": 5
}
