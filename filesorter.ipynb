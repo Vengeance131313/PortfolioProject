{
 "cells": [
  {
   "cell_type": "code",
   "execution_count": 2,
   "id": "60c74f2a-f9b3-4909-966d-94f0b2773a30",
   "metadata": {},
   "outputs": [],
   "source": [
    "import os, shutil"
   ]
  },
  {
   "cell_type": "code",
   "execution_count": 12,
   "id": "b484555f-b463-42d7-8d93-e0a849a7ac4b",
   "metadata": {},
   "outputs": [],
   "source": [
    "path = r\"C:/Users/ADMIN/Desktop/New folder (4)/\" "
   ]
  },
  {
   "cell_type": "code",
   "execution_count": 28,
   "id": "af3474c3-229c-458c-8a80-23680b2f3d62",
   "metadata": {},
   "outputs": [],
   "source": [
    "file_name = os.listdir(path)"
   ]
  },
  {
   "cell_type": "code",
   "execution_count": 22,
   "id": "447802b8-753c-42a7-8b5e-75d6660b8130",
   "metadata": {},
   "outputs": [],
   "source": [
    "folder_names = ['csv files', 'image files', 'text files']\n",
    "for loop in range(0,2):\n",
    "    if not os.path.exists(path + folder_names[loop]):\n",
    "       os.makedirs(path+folder_names[loop])     \n",
    "    "
   ]
  },
  {
   "cell_type": "code",
   "execution_count": 30,
   "id": "026d55b7-481c-4f3b-856e-e0dd11aba356",
   "metadata": {},
   "outputs": [
    {
     "data": {
      "text/plain": [
       "['1mb-examplefile-com.txt', 'csv files', 'gg.jpg', 'image files', 'Sales.csv']"
      ]
     },
     "execution_count": 30,
     "metadata": {},
     "output_type": "execute_result"
    }
   ],
   "source": [
    " for file in file_name:\n",
    "    if \".csv\" in file and not os.path.exists(path + \"csv files/\" + file):\n",
    "        shutil.move(path + file,path + \"csv file/\" + file)\n",
    "    elif \".png\" in file and not os.path.exists(path + \"image files/\" + file):\n",
    "        shutil.move(path + file,path + \"image file/\" + file) \n",
    "    elif \".txt\" in file and not os.path.exists(path + \"text files/\" + file):\n",
    "        shutil.move(path + file,path + \"text file/\" + file)\n",
    "    else:\n",
    "        print(\"there are files in this path that were not moved)"
   ]
  },
  {
   "cell_type": "code",
   "execution_count": null,
   "id": "efbf8ecd-12f1-4995-9d16-f1c184ee1076",
   "metadata": {},
   "outputs": [],
   "source": []
  }
 ],
 "metadata": {
  "kernelspec": {
   "display_name": "Python 3 (ipykernel)",
   "language": "python",
   "name": "python3"
  },
  "language_info": {
   "codemirror_mode": {
    "name": "ipython",
    "version": 3
   },
   "file_extension": ".py",
   "mimetype": "text/x-python",
   "name": "python",
   "nbconvert_exporter": "python",
   "pygments_lexer": "ipython3",
   "version": "3.12.7"
  }
 },
 "nbformat": 4,
 "nbformat_minor": 5
}
