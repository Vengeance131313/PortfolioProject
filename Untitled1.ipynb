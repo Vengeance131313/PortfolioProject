{
 "cells": [
  {
   "cell_type": "code",
   "execution_count": 14,
   "id": "334eb433-3b57-445a-8171-fb612eab569a",
   "metadata": {},
   "outputs": [
    {
     "name": "stdout",
     "output_type": "stream",
     "text": [
      "0\n",
      "1\n",
      "2\n",
      "3\n"
     ]
    }
   ],
   "source": [
    "number = 0\n",
    "while number < 8:\n",
    "  print(number)\n",
    "  if number == 3:\n",
    "   break\n",
    "  number = number + 1\n",
    "else:\n",
    "   print('sda')"
   ]
  },
  {
   "cell_type": "code",
   "execution_count": 28,
   "id": "6391e814-a86a-44b0-a8c0-0b1d143c06f1",
   "metadata": {},
   "outputs": [
    {
     "name": "stdout",
     "output_type": "stream",
     "text": [
      "1\n",
      "2\n",
      "4\n",
      "5\n",
      "qwe\n"
     ]
    }
   ],
   "source": [
    "number = 0\n",
    "while number < 5:\n",
    "    number = number + 1\n",
    "    if number == 3: \n",
    "        continue\n",
    "    print(number)\n",
    "else: \n",
    "    print('qwe')"
   ]
  },
  {
   "cell_type": "code",
   "execution_count": 30,
   "id": "f080e57b-ba30-4ba9-8b35-df2ee0bfa36d",
   "metadata": {},
   "outputs": [
    {
     "data": {
      "text/plain": [
       "int"
      ]
     },
     "execution_count": 30,
     "metadata": {},
     "output_type": "execute_result"
    }
   ],
   "source": [
    "type(12)"
   ]
  },
  {
   "cell_type": "code",
   "execution_count": 32,
   "id": "dfd42d23-1f7c-4ad7-943e-b665ddbda1b1",
   "metadata": {},
   "outputs": [],
   "source": [
    " def first_func():\n",
    "     print('we did it')"
   ]
  },
  {
   "cell_type": "code",
   "execution_count": 34,
   "id": "b0898bce-f194-47c5-859e-ad37460cad90",
   "metadata": {},
   "outputs": [
    {
     "name": "stdout",
     "output_type": "stream",
     "text": [
      "we did it\n"
     ]
    }
   ],
   "source": [
    "first_func()"
   ]
  },
  {
   "cell_type": "code",
   "execution_count": 38,
   "id": "28c0e6ed-ebff-4580-8802-e8d20cd04c96",
   "metadata": {},
   "outputs": [],
   "source": [
    "def number_squeared(number):\n",
    "    print(number**2)"
   ]
  },
  {
   "cell_type": "code",
   "execution_count": 40,
   "id": "035b8a6f-6706-487e-94fd-0c3f22c3b4bb",
   "metadata": {},
   "outputs": [
    {
     "name": "stdout",
     "output_type": "stream",
     "text": [
      "100\n"
     ]
    }
   ],
   "source": [
    "number_squeared(10)"
   ]
  },
  {
   "cell_type": "code",
   "execution_count": 42,
   "id": "36079adf-a9f7-44d1-948e-fb24bc1ac791",
   "metadata": {},
   "outputs": [],
   "source": [
    "def number_squeared_ss(number,power):\n",
    "    print(number**power)"
   ]
  },
  {
   "cell_type": "code",
   "execution_count": 44,
   "id": "9ddb1e17-9681-4a88-9d58-bee614d4c09e",
   "metadata": {},
   "outputs": [
    {
     "name": "stdout",
     "output_type": "stream",
     "text": [
      "125\n"
     ]
    }
   ],
   "source": [
    " number_squeared_ss(5,3)"
   ]
  },
  {
   "cell_type": "code",
   "execution_count": 94,
   "id": "e620d9aa-a813-45f0-9888-78e019a19aea",
   "metadata": {},
   "outputs": [],
   "source": [
    "def number_argsx(*xo):\n",
    "    print(xo[0]*xo[1])"
   ]
  },
  {
   "cell_type": "code",
   "execution_count": 96,
   "id": "88d7c19e-8538-4271-a810-e7088ade66be",
   "metadata": {},
   "outputs": [
    {
     "name": "stdout",
     "output_type": "stream",
     "text": [
      "30\n"
     ]
    }
   ],
   "source": [
    " number_argsx(5,6,1,2,8)"
   ]
  },
  {
   "cell_type": "code",
   "execution_count": 102,
   "id": "6792796c-d04c-4fc4-8d8b-aec3066159d2",
   "metadata": {},
   "outputs": [],
   "source": [
    "args_func = (1,3,4,6,7)\n",
    "def myfunc(*number):\n",
    "    print(number[0]*number[1])"
   ]
  },
  {
   "cell_type": "code",
   "execution_count": 104,
   "id": "dc3c3e54-582e-442e-bcdd-c252267710cc",
   "metadata": {},
   "outputs": [
    {
     "name": "stdout",
     "output_type": "stream",
     "text": [
      "3\n"
     ]
    }
   ],
   "source": [
    "myfunc(*args_func)"
   ]
  },
  {
   "cell_type": "code",
   "execution_count": 110,
   "id": "3b93786e-af17-4872-90e5-8280d2bba1ca",
   "metadata": {},
   "outputs": [],
   "source": [
    "def number_kwarg(**number):\n",
    "    print('My number is: ' + number['integer'])"
   ]
  },
  {
   "cell_type": "code",
   "execution_count": 114,
   "id": "343fbd5a-51a9-425d-bb57-cd3fae8ac99f",
   "metadata": {},
   "outputs": [
    {
     "name": "stdout",
     "output_type": "stream",
     "text": [
      "My number is: 2309\n"
     ]
    }
   ],
   "source": [
    "number_kwarg(integer = '2309')"
   ]
  },
  {
   "cell_type": "code",
   "execution_count": 136,
   "id": "3bbc9c2b-6747-4ad8-9616-701abbbd1a78",
   "metadata": {},
   "outputs": [],
   "source": [
    "def kwarg(**number):\n",
    "    print('my number is: ' + number['integer'])"
   ]
  },
  {
   "cell_type": "code",
   "execution_count": 138,
   "id": "52384916-fdfd-450e-ae27-2339de494d5a",
   "metadata": {},
   "outputs": [
    {
     "name": "stdout",
     "output_type": "stream",
     "text": [
      "my number is: 2303\n"
     ]
    }
   ],
   "source": [
    "kwarg(integer = '2303')"
   ]
  },
  {
   "cell_type": "code",
   "execution_count": 154,
   "id": "83ce3f1e-b96b-4c86-8adc-de95c77937a6",
   "metadata": {},
   "outputs": [],
   "source": [
    "def kwarg(**number):\n",
    "    print('my number is : ' + number['integer'] + ' my other number is: ' + number[\"integer2\"])"
   ]
  },
  {
   "cell_type": "code",
   "execution_count": 156,
   "id": "d3a391df-f853-4d36-88a1-7950d503949e",
   "metadata": {},
   "outputs": [
    {
     "name": "stdout",
     "output_type": "stream",
     "text": [
      "my number is : 2303 my other number is: 3333\n"
     ]
    }
   ],
   "source": [
    "kwarg(integer = '2303',integer2 = '3333')"
   ]
  },
  {
   "cell_type": "code",
   "execution_count": 158,
   "id": "50799815-6902-4c51-a1db-cc210080bbb7",
   "metadata": {},
   "outputs": [
    {
     "data": {
      "text/plain": [
       "int"
      ]
     },
     "execution_count": 158,
     "metadata": {},
     "output_type": "execute_result"
    }
   ],
   "source": [
    "num_int = 8\n",
    "type(num_int) "
   ]
  },
  {
   "cell_type": "code",
   "execution_count": 160,
   "id": "265f223e-594b-423d-af9f-59b1bd983aa8",
   "metadata": {},
   "outputs": [],
   "source": [
    "str = 7"
   ]
  },
  {
   "cell_type": "code",
   "execution_count": 162,
   "id": "6de51177-3a0b-4aa8-97e9-353ccda55544",
   "metadata": {},
   "outputs": [
    {
     "data": {
      "text/plain": [
       "str"
      ]
     },
     "execution_count": 162,
     "metadata": {},
     "output_type": "execute_result"
    }
   ],
   "source": [
    "str = '7'\n",
    "type(str)"
   ]
  },
  {
   "cell_type": "code",
   "execution_count": 164,
   "id": "d8c7ac86-6a18-465b-8e5b-31b92615857f",
   "metadata": {},
   "outputs": [
    {
     "data": {
      "text/plain": [
       "7"
      ]
     },
     "execution_count": 164,
     "metadata": {},
     "output_type": "execute_result"
    }
   ],
   "source": [
    "int(str)"
   ]
  },
  {
   "cell_type": "code",
   "execution_count": 166,
   "id": "68fadd78-b090-4644-a69b-3eec81f84168",
   "metadata": {},
   "outputs": [
    {
     "data": {
      "text/plain": [
       "str"
      ]
     },
     "execution_count": 166,
     "metadata": {},
     "output_type": "execute_result"
    }
   ],
   "source": [
    "type(str)"
   ]
  },
  {
   "cell_type": "code",
   "execution_count": 170,
   "id": "fb96bc1f-09de-4870-a9bf-6493bd5e99c8",
   "metadata": {},
   "outputs": [
    {
     "data": {
      "text/plain": [
       "int"
      ]
     },
     "execution_count": 170,
     "metadata": {},
     "output_type": "execute_result"
    }
   ],
   "source": [
    "type(int(str))"
   ]
  },
  {
   "cell_type": "code",
   "execution_count": null,
   "id": "bb61a214-dea0-414d-856d-612ee8a6c34d",
   "metadata": {},
   "outputs": [],
   "source": [
    "#Bmi calculator"
   ]
  },
  {
   "cell_type": "code",
   "execution_count": null,
   "id": "694e59e7-4f7d-46b2-9225-8bd93a51e4dc",
   "metadata": {},
   "outputs": [],
   "source": []
  },
  {
   "cell_type": "code",
   "execution_count": 212,
   "id": "2626c2e4-88ed-4009-bc5e-c9b57d3c6062",
   "metadata": {},
   "outputs": [
    {
     "name": "stdin",
     "output_type": "stream",
     "text": [
      "Enter your name:  Gio\n",
      "Enter your weight in pounds:  161\n",
      "Enter your height in inches:  72\n"
     ]
    },
    {
     "name": "stdout",
     "output_type": "stream",
     "text": [
      "21.833140432098766\n",
      "Gio, you are normal weight.\n"
     ]
    }
   ],
   "source": [
    "name = input(\"Enter your name: \")\n",
    "weight = int(input(\"Enter your weight in pounds: \"))\n",
    "height = int(input(\"Enter your height in inches: \"))\n",
    "BMI = (weight * 703) / (height * height )\n",
    "print(BMI)\n",
    "if BMI>0:\n",
    "    if(BMI<18.5):\n",
    "        print(name +\", you are underweight.\")\n",
    "    elif(BMI<24.9):\n",
    "        print(name +\", you are normal weight.\") \n",
    "    elif(BMI<29.9):\n",
    "        print(name +\", you are overweight.\") \n",
    "    elif(BMI<34.9):\n",
    "        print(name +\", you are obese.\")    \n",
    "    elif(BMI<39.9):\n",
    "        print(name +\", you are severely obese.\") \n",
    "    else: \n",
    "        print(name +\", you are morbidly obese.\")\n",
    "else:\n",
    "    print(\"Enter valid input\")        \n",
    " "
   ]
  },
  {
   "cell_type": "code",
   "execution_count": 188,
   "id": "be94e2bd-d443-4cb7-990b-a867d36def40",
   "metadata": {},
   "outputs": [
    {
     "name": "stdout",
     "output_type": "stream",
     "text": [
      "21.833140432098766\n"
     ]
    }
   ],
   "source": [
    " print(BMI)"
   ]
  },
  {
   "cell_type": "code",
   "execution_count": 200,
   "id": "86899372-56d0-46fb-ba60-6e1a6ffa3562",
   "metadata": {},
   "outputs": [
    {
     "name": "stdout",
     "output_type": "stream",
     "text": [
      "enter valid inputs.\n"
     ]
    }
   ],
   "source": [
    "if BMI>0:\n",
    "    if(BMI<18.5):\n",
    "        print(name +\", you are underweight.\")\n",
    "    elif(BMI<24.9):\n",
    "        print(name +\", you are normal weight.\") \n",
    "    elif(BMI<29.9):\n",
    "        print(name +\", you are overweight.\") \n",
    "     elif(BMI<34.9):\n",
    "        print(name +\", you are obese.\")    \n",
    "     elif(BMI<39.9):\n",
    "        print(name +\", you are severely obese.\") \n",
    "     else: \n",
    "        print(name +\", you are morbidly obese.\")\n",
    "else:\n",
    "    print(\"Enter valid input\")        "
   ]
  },
  {
   "cell_type": "code",
   "execution_count": null,
   "id": "f3c723aa-9318-4b69-9ec7-b1f2c725046d",
   "metadata": {},
   "outputs": [],
   "source": []
  },
  {
   "cell_type": "code",
   "execution_count": null,
   "id": "c52c7eeb-f1a7-4d12-a88f-c33888c935e9",
   "metadata": {},
   "outputs": [],
   "source": []
  },
  {
   "cell_type": "code",
   "execution_count": null,
   "id": "bfab68b7-084e-4b47-a06c-877057ee8545",
   "metadata": {},
   "outputs": [],
   "source": []
  },
  {
   "cell_type": "code",
   "execution_count": null,
   "id": "6259c277-e22b-4124-b117-a787c1c16b68",
   "metadata": {},
   "outputs": [],
   "source": [
    "print(weight)"
   ]
  },
  {
   "cell_type": "code",
   "execution_count": null,
   "id": "3112cfdc-d5aa-4173-91a7-6749aabc2920",
   "metadata": {},
   "outputs": [],
   "source": []
  },
  {
   "cell_type": "code",
   "execution_count": null,
   "id": "d1f77093-d8bd-42c9-ad34-d519b87bd8cc",
   "metadata": {},
   "outputs": [],
   "source": []
  },
  {
   "cell_type": "code",
   "execution_count": null,
   "id": "34c5b3f1-ffc8-410a-aef6-a1d800e7e35a",
   "metadata": {},
   "outputs": [],
   "source": []
  },
  {
   "cell_type": "code",
   "execution_count": null,
   "id": "2b1f65b1-267a-401e-8368-c073e676e776",
   "metadata": {},
   "outputs": [],
   "source": []
  },
  {
   "cell_type": "code",
   "execution_count": null,
   "id": "1405503d-0674-4b2b-b794-af6b938dbe62",
   "metadata": {},
   "outputs": [],
   "source": []
  },
  {
   "cell_type": "code",
   "execution_count": null,
   "id": "2742b4e3-dcc9-4056-bd29-5a0fa774a6f5",
   "metadata": {},
   "outputs": [],
   "source": []
  },
  {
   "cell_type": "code",
   "execution_count": null,
   "id": "e9a60403-f0d7-414b-a940-8c2be5791d1d",
   "metadata": {},
   "outputs": [],
   "source": []
  }
 ],
 "metadata": {
  "kernelspec": {
   "display_name": "Python 3 (ipykernel)",
   "language": "python",
   "name": "python3"
  },
  "language_info": {
   "codemirror_mode": {
    "name": "ipython",
    "version": 3
   },
   "file_extension": ".py",
   "mimetype": "text/x-python",
   "name": "python",
   "nbconvert_exporter": "python",
   "pygments_lexer": "ipython3",
   "version": "3.12.7"
  }
 },
 "nbformat": 4,
 "nbformat_minor": 5
}
